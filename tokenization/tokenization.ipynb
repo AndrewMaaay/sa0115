{
 "cells": [
  {
   "metadata": {},
   "cell_type": "markdown",
   "source": "## Tokenization",
   "id": "a9c73fe292789bd3"
  },
  {
   "metadata": {},
   "cell_type": "markdown",
   "source": [
    "分词思路：\n",
    "- 准备常用词字典\n",
    "- 从文本开头，尽可能从字典中匹配最长的词\n",
    "- 如果匹配不到，则从开头匹配最短的词\n",
    "- 每次匹配到一个词，就将该词从文本中删除\n",
    "\n",
    "伪代码：\n",
    "1. 初始化一个词典（可以根据你的任务需求动态扩展）。\n",
    "2. 从文本的第一个字开始，尝试匹配尽可能长的子串。\n",
    "3. 如果匹配成功，将该词从文本中移除，然后继续处理剩余文本。\n",
    "4. 如果匹配失败，则减少匹配长度，直到找到一个匹配的词，或回退到一个字进行匹配。\n",
    "5. 重复此过程直到文本被完全处理。\n",
    "\n",
    "数据集\n",
    "- THUCNews - 文本分类数据集 - http://thuctc.thunlp.org/\n",
    "- THUOCL (Tsinghua University Open Chinese Lexicon) 词库每一行由两部分组成，分别是词和DF值（存在此单词的文档个数），中间由Tab间隔。\n"
   ],
   "id": "645311405512f475"
  },
  {
   "metadata": {},
   "cell_type": "markdown",
   "source": "#### Step-0: 从THUOCL中加载常用词字典\n",
   "id": "3fbecafcb702a581"
  },
  {
   "cell_type": "code",
   "id": "initial_id",
   "metadata": {
    "collapsed": true,
    "ExecuteTime": {
     "end_time": "2025-01-15T10:12:35.261961Z",
     "start_time": "2025-01-15T10:12:35.238892Z"
    }
   },
   "source": [
    "word_category = 'animal'\n",
    "word_dict = set()\n",
    "# 读取文件\n",
    "with open('../datasets/THUOCL-master/data/THUOCL_'+word_category+'.txt', 'r', encoding='utf-8') as file:\n",
    "    lines = file.readlines()\n",
    "\n",
    "for line in lines[:10]:\n",
    "    # print(line.strip().split('\\t')[0])\n",
    "    word_dict.add(line.strip().split('\\t')[0])\n",
    "print(word_dict)"
   ],
   "outputs": [
    {
     "name": "stdout",
     "output_type": "stream",
     "text": [
      "{'犀牛', '毛毛虫', '猎豹', '野猫', '母狗', '萨摩', '黄蜂', '宠物狗', '水母', '信鸽'}\n"
     ]
    }
   ],
   "execution_count": 4
  }
 ],
 "metadata": {
  "kernelspec": {
   "display_name": "Python 3",
   "language": "python",
   "name": "python3"
  },
  "language_info": {
   "codemirror_mode": {
    "name": "ipython",
    "version": 2
   },
   "file_extension": ".py",
   "mimetype": "text/x-python",
   "name": "python",
   "nbconvert_exporter": "python",
   "pygments_lexer": "ipython2",
   "version": "2.7.6"
  }
 },
 "nbformat": 4,
 "nbformat_minor": 5
}
