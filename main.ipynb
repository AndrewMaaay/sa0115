{
 "cells": [
  {
   "metadata": {},
   "cell_type": "markdown",
   "source": "## Sentiment Analysis",
   "id": "8d52b9e80b0785c2"
  },
  {
   "metadata": {},
   "cell_type": "markdown",
   "source": "### Step-1 Dataset",
   "id": "50d92b3badb7afd"
  },
  {
   "metadata": {},
   "cell_type": "markdown",
   "source": [
    "Data source - Chinese/Mandarin:\n",
    "- ChnSentiCorp - https://gitcode.com/open-source-toolkit/78ecd/?utm_source=tools_gitcode&index=top&type=card\n",
    "- ChineseNlpCorpus - https://gitee.com/jiang-zhuo/ChineseNlpCorpus/tree/master\n",
    "- THUCNews - 文本分类数据集 - http://thuctc.thunlp.org/\n",
    "- Chinese Movie Reviews (Douban Reviews)\n",
    "- NLPCC 2014/2015 Chinese Sentiment Dataset\n",
    "- THUOCL (Tsinghua University Open Chinese Lexicon)\n",
    "- Tencent AI Lab Chinese Sentiment Dataset\n"
   ],
   "id": "e147fd30783a1651"
  },
  {
   "metadata": {
    "ExecuteTime": {
     "end_time": "2025-01-15T03:32:06.398346Z",
     "start_time": "2025-01-15T03:32:06.394236Z"
    }
   },
   "cell_type": "code",
   "source": "print(\"Hello World11\")",
   "id": "7e60eaa4e5d7cde",
   "outputs": [
    {
     "name": "stdout",
     "output_type": "stream",
     "text": [
      "Hello World11\n"
     ]
    }
   ],
   "execution_count": 4
  }
 ],
 "metadata": {
  "kernelspec": {
   "display_name": "Python 3",
   "language": "python",
   "name": "python3"
  },
  "language_info": {
   "codemirror_mode": {
    "name": "ipython",
    "version": 2
   },
   "file_extension": ".py",
   "mimetype": "text/x-python",
   "name": "python",
   "nbconvert_exporter": "python",
   "pygments_lexer": "ipython2",
   "version": "2.7.6"
  }
 },
 "nbformat": 4,
 "nbformat_minor": 5
}
